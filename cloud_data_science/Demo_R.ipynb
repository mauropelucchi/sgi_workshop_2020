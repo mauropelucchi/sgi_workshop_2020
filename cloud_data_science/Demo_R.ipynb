{
  "nbformat": 4,
  "nbformat_minor": 0,
  "metadata": {
    "kernelspec": {
      "display_name": "R",
      "language": "R",
      "name": "ir"
    },
    "language_info": {
      "codemirror_mode": "r",
      "file_extension": ".r",
      "mimetype": "text/x-r-source",
      "name": "R",
      "pygments_lexer": "r",
      "version": "3.3.1"
    },
    "colab": {
      "name": "Demo.ipynb",
      "provenance": [],
      "collapsed_sections": [],
      "toc_visible": true
    },
    "accelerator": "GPU"
  },
  "cells": [
    {
      "cell_type": "markdown",
      "metadata": {
        "id": "u0J6zIhWQYGk",
        "colab_type": "text"
      },
      "source": [
        "# Code Colaborary Demo - R"
      ]
    },
    {
      "cell_type": "markdown",
      "metadata": {
        "id": "jnJW6LFqRNlA",
        "colab_type": "text"
      },
      "source": [
        "## Basic Usage"
      ]
    },
    {
      "cell_type": "markdown",
      "metadata": {
        "id": "Q6Nj-QiwqfXw",
        "colab_type": "text"
      },
      "source": [
        "Write code (assign a variable)"
      ]
    },
    {
      "cell_type": "code",
      "metadata": {
        "id": "2MNSXpkEqfX1",
        "colab_type": "code",
        "colab": {}
      },
      "source": [
        "a <- 8"
      ],
      "execution_count": 0,
      "outputs": []
    },
    {
      "cell_type": "code",
      "metadata": {
        "id": "rGZGJQHbqfX_",
        "colab_type": "code",
        "colab": {}
      },
      "source": [
        "b <- 8 + 4"
      ],
      "execution_count": 0,
      "outputs": []
    },
    {
      "cell_type": "markdown",
      "metadata": {
        "id": "pAyck5etqfYH",
        "colab_type": "text"
      },
      "source": [
        "Display results:"
      ]
    },
    {
      "cell_type": "code",
      "metadata": {
        "id": "7OHTadcUqfYM",
        "colab_type": "code",
        "outputId": "b2682b85-b61f-422f-ee91-7a2fcbadbc47",
        "colab": {
          "base_uri": "https://localhost:8080/",
          "height": 32
        }
      },
      "source": [
        "a + b"
      ],
      "execution_count": 3,
      "outputs": [
        {
          "output_type": "display_data",
          "data": {
            "text/plain": [
              "[1] 20"
            ],
            "text/latex": "20",
            "text/markdown": "20",
            "text/html": [
              "20"
            ]
          },
          "metadata": {
            "tags": []
          }
        }
      ]
    },
    {
      "cell_type": "markdown",
      "metadata": {
        "id": "5i1jMsM6qfYV",
        "colab_type": "text"
      },
      "source": [
        "You can:\n",
        "\n",
        "1. Print result with `print`\n",
        "2. Display a dataset (also with `head`)\n",
        "3. Create a chart\n",
        "4. Plot a figure\n",
        "5. .....\n",
        "\n"
      ]
    },
    {
      "cell_type": "code",
      "metadata": {
        "id": "eVAUeRDXqfYX",
        "colab_type": "code",
        "outputId": "9e659f32-0026-463a-9c0f-f2e92293042e",
        "colab": {
          "base_uri": "https://localhost:8080/",
          "height": 32
        }
      },
      "source": [
        "print('Hello world! Love, R in Jupyter.')"
      ],
      "execution_count": 4,
      "outputs": [
        {
          "output_type": "stream",
          "text": [
            "[1] \"Hello world! Love, R in Jupyter.\"\n"
          ],
          "name": "stdout"
        }
      ]
    },
    {
      "cell_type": "markdown",
      "metadata": {
        "id": "kcHDrP7tqfYn",
        "colab_type": "text"
      },
      "source": [
        "For plotting:"
      ]
    },
    {
      "cell_type": "code",
      "metadata": {
        "id": "4eJrcnVfqfYo",
        "colab_type": "code",
        "outputId": "64916421-9cc2-4506-975a-f018502926ef",
        "colab": {
          "base_uri": "https://localhost:8080/",
          "height": 436
        }
      },
      "source": [
        "x <- seq(0, 2*pi, length.out=50)\n",
        "plot(x, sin(x))"
      ],
      "execution_count": 5,
      "outputs": [
        {
          "output_type": "display_data",
          "data": {
            "image/png": "[encoded data removed]",
            "text/plain": [
              "plot without title"
            ]
          },
          "metadata": {
            "tags": [],
            "image/png": {
              "width": 420,
              "height": 420
            },
            "text/plain": {
              "width": 420,
              "height": 420
            }
          }
        }
      ]
    },
    {
      "cell_type": "markdown",
      "metadata": {
        "id": "-Lw-CjShszMB",
        "colab_type": "text"
      },
      "source": [
        "# Linear regression on California housing"
      ]
    },
    {
      "cell_type": "markdown",
      "metadata": {
        "id": "iUvhD1sORdBr",
        "colab_type": "text"
      },
      "source": [
        "Import `dplyr` and other libraries"
      ]
    },
    {
      "cell_type": "code",
      "metadata": {
        "id": "6BfmgRqeRgX-",
        "colab_type": "code",
        "colab": {}
      },
      "source": [
        "library(dplyr)"
      ],
      "execution_count": 0,
      "outputs": []
    },
    {
      "cell_type": "code",
      "metadata": {
        "id": "ZkYlVsEgrW7f",
        "colab_type": "code",
        "colab": {
          "base_uri": "https://localhost:8080/",
          "height": 148
        },
        "outputId": "c3545bcc-270c-47c1-95fe-193868afc512"
      },
      "source": [
        "data <- read.csv('https://storage.googleapis.com/mledu-datasets/california_housing_train.csv')\n",
        "test <- read.csv('https://storage.googleapis.com/mledu-datasets/california_housing_test.csv')\n",
        "count_record <- count(data)\n",
        "print(count_record)\n",
        "\n",
        "count_record_test <- count(test)\n",
        "print(count_record_test)"
      ],
      "execution_count": 13,
      "outputs": [
        {
          "output_type": "stream",
          "text": [
            "\u001b[90m# A tibble: 1 x 1\u001b[39m\n",
            "      n\n",
            "  \u001b[3m\u001b[90m<int>\u001b[39m\u001b[23m\n",
            "\u001b[90m1\u001b[39m \u001b[4m1\u001b[24m\u001b[4m7\u001b[24m000\n",
            "\u001b[90m# A tibble: 1 x 1\u001b[39m\n",
            "      n\n",
            "  \u001b[3m\u001b[90m<int>\u001b[39m\u001b[23m\n",
            "\u001b[90m1\u001b[39m  \u001b[4m3\u001b[24m000\n"
          ],
          "name": "stdout"
        }
      ]
    },
    {
      "cell_type": "markdown",
      "metadata": {
        "id": "eeeTtMUcs54E",
        "colab_type": "text"
      },
      "source": [
        "Scale housing_median_value for an easier learning rate"
      ]
    },
    {
      "cell_type": "code",
      "metadata": {
        "id": "A8c_DgyFr7IC",
        "colab_type": "code",
        "colab": {}
      },
      "source": [
        "data$median_house_value_scaled <- data$median_house_value / 1000\n",
        "test$median_house_value_scaled <- test$median_house_value / 1000\n"
      ],
      "execution_count": 0,
      "outputs": []
    },
    {
      "cell_type": "markdown",
      "metadata": {
        "id": "5FXNR2rPtAJ4",
        "colab_type": "text"
      },
      "source": [
        "Build a model to predict the median_house_value_scaled from the total_rooms"
      ]
    },
    {
      "cell_type": "code",
      "metadata": {
        "id": "-K7uZ2SOTmcM",
        "colab_type": "code",
        "colab": {
          "base_uri": "https://localhost:8080/",
          "height": 209
        },
        "outputId": "5fe13d1f-9eaf-420a-f7ec-1ee33913fe88"
      },
      "source": [
        "colnames(data)"
      ],
      "execution_count": 27,
      "outputs": [
        {
          "output_type": "display_data",
          "data": {
            "text/plain": [
              " [1] \"longitude\"                 \"latitude\"                 \n",
              " [3] \"housing_median_age\"        \"total_rooms\"              \n",
              " [5] \"total_bedrooms\"            \"population\"               \n",
              " [7] \"households\"                \"median_income\"            \n",
              " [9] \"median_house_value\"        \"median_house_value_scaled\""
            ],
            "text/latex": "\\begin{enumerate*}\n\\item 'longitude'\n\\item 'latitude'\n\\item 'housing\\_median\\_age'\n\\item 'total\\_rooms'\n\\item 'total\\_bedrooms'\n\\item 'population'\n\\item 'households'\n\\item 'median\\_income'\n\\item 'median\\_house\\_value'\n\\item 'median\\_house\\_value\\_scaled'\n\\end{enumerate*}\n",
            "text/markdown": "1. 'longitude'\n2. 'latitude'\n3. 'housing_median_age'\n4. 'total_rooms'\n5. 'total_bedrooms'\n6. 'population'\n7. 'households'\n8. 'median_income'\n9. 'median_house_value'\n10. 'median_house_value_scaled'\n\n\n",
            "text/html": [
              "<ol class=list-inline>\n",
              "\t<li>'longitude'</li>\n",
              "\t<li>'latitude'</li>\n",
              "\t<li>'housing_median_age'</li>\n",
              "\t<li>'total_rooms'</li>\n",
              "\t<li>'total_bedrooms'</li>\n",
              "\t<li>'population'</li>\n",
              "\t<li>'households'</li>\n",
              "\t<li>'median_income'</li>\n",
              "\t<li>'median_house_value'</li>\n",
              "\t<li>'median_house_value_scaled'</li>\n",
              "</ol>\n"
            ]
          },
          "metadata": {
            "tags": []
          }
        }
      ]
    },
    {
      "cell_type": "code",
      "metadata": {
        "id": "jSS2ZNwNr_RR",
        "colab_type": "code",
        "colab": {
          "base_uri": "https://localhost:8080/",
          "height": 131
        },
        "outputId": "b3bbe17f-8363-4626-eb85-52aa880dd343"
      },
      "source": [
        "fit <- lm(median_house_value_scaled ~ total_rooms, data = data)\n",
        "fit\n"
      ],
      "execution_count": 18,
      "outputs": [
        {
          "output_type": "display_data",
          "data": {
            "text/plain": [
              "\n",
              "Call:\n",
              "lm(formula = median_house_value_scaled ~ total_rooms, data = data)\n",
              "\n",
              "Coefficients:\n",
              "(Intercept)  total_rooms  \n",
              "  1.889e+02    6.969e-03  \n"
            ]
          },
          "metadata": {
            "tags": []
          }
        }
      ]
    },
    {
      "cell_type": "markdown",
      "metadata": {
        "id": "_OBdbhI2tLCQ",
        "colab_type": "text"
      },
      "source": [
        "### Predictions\n",
        "Get the resulting predictions\n"
      ]
    },
    {
      "cell_type": "code",
      "metadata": {
        "id": "B9lzjRKAsHju",
        "colab_type": "code",
        "colab": {
          "base_uri": "https://localhost:8080/",
          "height": 242
        },
        "outputId": "cae5e6f0-bd56-4d57-ed38-dbdee9253094"
      },
      "source": [
        "predictions <- predict(fit, newdata = test)\n",
        "head(predictions)"
      ],
      "execution_count": 14,
      "outputs": [
        {
          "output_type": "display_data",
          "data": {
            "text/plain": [
              "       1        2        3        4        5        6 \n",
              "215.9523 199.4000 213.8893 189.3432 197.5252 195.9710 "
            ],
            "text/latex": "\\begin{description*}\n\\item[1] 215.952253960257\n\\item[2] 199.399972279052\n\\item[3] 213.889316959146\n\\item[4] 189.34315439864\n\\item[5] 197.525208585476\n\\item[6] 195.971036452882\n\\end{description*}\n",
            "text/markdown": "1\n:   215.9522539602572\n:   199.3999722790523\n:   213.8893169591464\n:   189.343154398645\n:   197.5252085854766\n:   195.971036452882\n\n",
            "text/html": [
              "<dl class=dl-horizontal>\n",
              "\t<dt>1</dt>\n",
              "\t\t<dd>215.952253960257</dd>\n",
              "\t<dt>2</dt>\n",
              "\t\t<dd>199.399972279052</dd>\n",
              "\t<dt>3</dt>\n",
              "\t\t<dd>213.889316959146</dd>\n",
              "\t<dt>4</dt>\n",
              "\t\t<dd>189.34315439864</dd>\n",
              "\t<dt>5</dt>\n",
              "\t\t<dd>197.525208585476</dd>\n",
              "\t<dt>6</dt>\n",
              "\t\t<dd>195.971036452882</dd>\n",
              "</dl>\n"
            ]
          },
          "metadata": {
            "tags": []
          }
        }
      ]
    },
    {
      "cell_type": "code",
      "metadata": {
        "id": "i4cNY3o7sOzl",
        "colab_type": "code",
        "colab": {
          "base_uri": "https://localhost:8080/",
          "height": 65
        },
        "outputId": "d2b2d1ed-a953-466f-aab8-6c78f7b5af88"
      },
      "source": [
        "install.packages(\"Metrics\")"
      ],
      "execution_count": 19,
      "outputs": [
        {
          "output_type": "stream",
          "text": [
            "Installing package into ‘/usr/local/lib/R/site-library’\n",
            "(as ‘lib’ is unspecified)\n",
            "\n"
          ],
          "name": "stderr"
        }
      ]
    },
    {
      "cell_type": "markdown",
      "metadata": {
        "id": "5svnE-egtZQ-",
        "colab_type": "text"
      },
      "source": [
        "Compare against the min and max housing median values"
      ]
    },
    {
      "cell_type": "code",
      "metadata": {
        "id": "cnSF6wQ6sajD",
        "colab_type": "code",
        "colab": {
          "base_uri": "https://localhost:8080/",
          "height": 176
        },
        "outputId": "1bdb8cbe-8f63-4d1a-b72a-d6426caa6eaa"
      },
      "source": [
        "\n",
        "library(Metrics)\n",
        "mean_squared_error <- mse(test$median_house_value_scaled, predictions)\n",
        "root_mean_squared_error <- sqrt(mean_squared_error)\n",
        "min_house_value <- min(test$median_house_value_scaled)\n",
        "max_house_value <- max(test$median_house_value_scaled)\n",
        "min_max_difference <- max_house_value - min_house_value\n",
        "c(min=min_house_value, max=max_house_value, difference=min_max_difference, rmse=root_mean_squared_error)\n"
      ],
      "execution_count": 21,
      "outputs": [
        {
          "output_type": "display_data",
          "data": {
            "text/plain": [
              "       min        max difference       rmse \n",
              "   22.5000   500.0010   477.5010   111.6855 "
            ],
            "text/latex": "\\begin{description*}\n\\item[min] 22.5\n\\item[max] 500.001\n\\item[difference] 477.501\n\\item[rmse] 111.685507089217\n\\end{description*}\n",
            "text/markdown": "min\n:   22.5max\n:   500.001difference\n:   477.501rmse\n:   111.685507089217\n\n",
            "text/html": [
              "<dl class=dl-horizontal>\n",
              "\t<dt>min</dt>\n",
              "\t\t<dd>22.5</dd>\n",
              "\t<dt>max</dt>\n",
              "\t\t<dd>500.001</dd>\n",
              "\t<dt>difference</dt>\n",
              "\t\t<dd>477.501</dd>\n",
              "\t<dt>rmse</dt>\n",
              "\t\t<dd>111.685507089217</dd>\n",
              "</dl>\n"
            ]
          },
          "metadata": {
            "tags": []
          }
        }
      ]
    },
    {
      "cell_type": "markdown",
      "metadata": {
        "id": "LeaywkfrtdzS",
        "colab_type": "text"
      },
      "source": [
        "Plot a sample of the median_house_value_scaled."
      ]
    },
    {
      "cell_type": "code",
      "metadata": {
        "id": "3GqFtklxsbxH",
        "colab_type": "code",
        "colab": {
          "base_uri": "https://localhost:8080/",
          "height": 436
        },
        "outputId": "170fdd1e-f034-435a-fa74-4804c2f2f87e"
      },
      "source": [
        "small <- test[sample(300),]\n",
        "plot(median_house_value_scaled ~ total_rooms, data = small, pch=16, col='darkblue')\n",
        "abline(fit, col='red')"
      ],
      "execution_count": 22,
      "outputs": [
        {
          "output_type": "display_data",
          "data": {
            "image/png": "[encoded data removed]",
            "text/plain": [
              "plot without title"
            ]
          },
          "metadata": {
            "tags": [],
            "image/png": {
              "width": 420,
              "height": 420
            },
            "text/plain": {
              "width": 420,
              "height": 420
            }
          }
        }
      ]
    },
    {
      "cell_type": "markdown",
      "metadata": {
        "id": "gC1OVDDVTLqI",
        "colab_type": "text"
      },
      "source": [
        "Impore my model with more features"
      ]
    },
    {
      "cell_type": "code",
      "metadata": {
        "id": "ueSrhctWseQX",
        "colab_type": "code",
        "colab": {
          "base_uri": "https://localhost:8080/",
          "height": 181
        },
        "outputId": "f49630a6-9799-4e80-a540-af5c5b5c43cd"
      },
      "source": [
        "fit2 <- lm(median_house_value_scaled ~ . - median_house_value - population - households, data = data)\n",
        "fit2"
      ],
      "execution_count": 23,
      "outputs": [
        {
          "output_type": "display_data",
          "data": {
            "text/plain": [
              "\n",
              "Call:\n",
              "lm(formula = median_house_value_scaled ~ . - median_house_value - \n",
              "    population - households, data = data)\n",
              "\n",
              "Coefficients:\n",
              "       (Intercept)           longitude            latitude  housing_median_age  \n",
              "        -3.498e+03          -4.102e+01          -3.968e+01           1.198e+00  \n",
              "       total_rooms      total_bedrooms       median_income  \n",
              "        -1.751e-02           1.108e-01           4.297e+01  \n"
            ]
          },
          "metadata": {
            "tags": []
          }
        }
      ]
    },
    {
      "cell_type": "markdown",
      "metadata": {
        "id": "vbrr8vgSTgaL",
        "colab_type": "text"
      },
      "source": [
        "Get predictions:"
      ]
    },
    {
      "cell_type": "code",
      "metadata": {
        "id": "jvvL-oLysgFQ",
        "colab_type": "code",
        "colab": {
          "base_uri": "https://localhost:8080/",
          "height": 209
        },
        "outputId": "52708297-12a7-471b-9d23-d3397e0ae3a2"
      },
      "source": [
        "predictions2 <- predict(fit2, newdata = test)\n",
        "mean_squared_error2 <- mse(test$median_house_value_scaled, predictions2)\n",
        "root_mean_squared_error2 <- sqrt(mean_squared_error2)\n",
        "c(min=min_house_value, max=max_house_value, difference=min_max_difference, original_rmse=root_mean_squared_error, new_rmse=root_mean_squared_error2)"
      ],
      "execution_count": 26,
      "outputs": [
        {
          "output_type": "display_data",
          "data": {
            "text/plain": [
              "          min           max    difference original_rmse      new_rmse \n",
              "     22.50000     500.00100     477.50100     111.68551      71.78533 "
            ],
            "text/latex": "\\begin{description*}\n\\item[min] 22.5\n\\item[max] 500.001\n\\item[difference] 477.501\n\\item[original\\textbackslash{}\\_rmse] 111.685507089217\n\\item[new\\textbackslash{}\\_rmse] 71.7853321070035\n\\end{description*}\n",
            "text/markdown": "min\n:   22.5max\n:   500.001difference\n:   477.501original_rmse\n:   111.685507089217new_rmse\n:   71.7853321070035\n\n",
            "text/html": [
              "<dl class=dl-horizontal>\n",
              "\t<dt>min</dt>\n",
              "\t\t<dd>22.5</dd>\n",
              "\t<dt>max</dt>\n",
              "\t\t<dd>500.001</dd>\n",
              "\t<dt>difference</dt>\n",
              "\t\t<dd>477.501</dd>\n",
              "\t<dt>original_rmse</dt>\n",
              "\t\t<dd>111.685507089217</dd>\n",
              "\t<dt>new_rmse</dt>\n",
              "\t\t<dd>71.7853321070035</dd>\n",
              "</dl>\n"
            ]
          },
          "metadata": {
            "tags": []
          }
        }
      ]
    }
  ]
}